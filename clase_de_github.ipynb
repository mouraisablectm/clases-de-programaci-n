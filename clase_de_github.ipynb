{
 "cells": [
  {
   "cell_type": "code",
   "execution_count": null,
   "id": "b41e3b22",
   "metadata": {},
   "outputs": [],
   "source": [
    "# IGNORAR EL CÓDIGO A CONTINUACIÓN\n",
    "\n",
    "def obtener_usuario(id):\n",
    "  if(id == 1):\n",
    "    return usuario_juan\n",
    "  if(id == 2):\n",
    "    return usuario_pedro\n",
    "  if(id == 3):\n",
    "    return usuario_santiago\n",
    "\n",
    "usuario_juan = {\n",
    "  \"nombre\": \"juanXD\",\n",
    "  \"pais\": \"Uruguay\",\n",
    "  \"mail\": \"juancito@yahoo.com\",\n",
    "  \"id\": 1   \n",
    "}\n",
    "\n",
    "usuario_pedro = {\n",
    "  \"nombre\": \"pepe122\",\n",
    "  \"pais\": \"Argentina\",\n",
    "  \"mail\": \"pepesuarez@hotmail.com\",\n",
    "  \"id\": 2  \n",
    "}\n",
    "\n",
    "\n",
    "usuario_santiago = {\n",
    "  \"nombre\": \"santimartinez\",\n",
    "  \"pais\": \"Argentina\",\n",
    "  \"mail\": \"smartinez98@gmail.com\",\n",
    "  \"id\": 3 \n",
    "}\n",
    "\n",
    "# EMPEZAR EL EJERCICIO A PARTIR DE ACÁ:\n",
    "\n",
    "def actualizar_usuario(actualizacion_usuario):\n",
    "  usuario = obtener_usuario(actualizacion_usuario[\"id\"])\n",
    "  if usuario is None:\n",
    "    return \"No está registrado el usuario con id: \" + str(actualizacion_usuario[\"id\"])\n",
    "  for campo in actualizacion_usuario[\"actualizacion\"]:\n",
    "    if campo not in actualizacion_usuario:\n",
    "      return \"Falta campo: \" + campo\n",
    "    usuario[campo] = actualizacion_usuario.get(campo)\n",
    "  return usuario\n",
    "\n",
    "actualizacion_usuario = {\n",
    "    \"id\": 3,\n",
    "    \"nombre\": \"Pepe\",\n",
    "    \"mail\": \"asdas\",\n",
    "    \"actualizacion\": [\"nombre\", \"mail\"]\n",
    "}\n",
    "\n",
    "actualizar_usuario(actualizacion_usuario)"
   ]
  }
 ],
 "metadata": {
  "kernelspec": {
   "display_name": "Python 3 (ipykernel)",
   "language": "python",
   "name": "python3"
  },
  "language_info": {
   "codemirror_mode": {
    "name": "ipython",
    "version": 3
   },
   "file_extension": ".py",
   "mimetype": "text/x-python",
   "name": "python",
   "nbconvert_exporter": "python",
   "pygments_lexer": "ipython3",
   "version": "3.8.5"
  }
 },
 "nbformat": 4,
 "nbformat_minor": 5
}
